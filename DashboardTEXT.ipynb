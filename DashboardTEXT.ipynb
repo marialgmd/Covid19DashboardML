{
 "cells": [
  {
   "cell_type": "markdown",
   "metadata": {},
   "source": [
    "**DIY Covid-19 Dashboard-Daily newcases per nation as %population  (C) Maria Lagoumidou, 2020. All rights reserved.**"
   ]
  },
  {
   "cell_type": "markdown",
   "metadata": {},
   "source": [
    "# DIY Covid-19 Dashboard\n",
    "\n",
    "## Daily new cases for England, Scotland, Wales and Northern Ireland as a percentage of the population of each nation\n"
   ]
  },
  {
   "cell_type": "markdown",
   "metadata": {},
   "source": [
    "This DIY Covid-19 Dashboard, uses the API provided by Public Health England to access current statistics on COVID-19 pandemic for the United Kingodom. The dashboard will be displayed using [voila](https://voila.readthedocs.io/en/stable/index.html).\n",
    "\n",
    "The **\"newCasesByPublishDate\" data timeseries** have been selected from the above API, to plot a graph showing the **daily new cases for each UK nation, i.e.England, Scotland, Wales and Northern Ireland, as a percentage of the population of each nation**. \n",
    "  \n",
    "A detailed explanation about the data provided by Public Health England may be found [here](https://coronavirus.data.gov.uk/details/about-data). For the purpose of this Dashboard the following applies:\n",
    "\n",
    "- The daily number of cases is the number of people with a positive COVID-19 virus test (either lab-reported or lateral flow device) on or up to the reporting date (depending on availability).The reporting date is the date the case was first included in the published totals. The availability of each of these time series varies by area.\n",
    "\n",
    "- COVID-19 cases are identified by taking specimens from people and testing them for the presence of the COVID-19 virus. If the test is positive, this is a referred to as a case. If a person has had more than one positive test they are only counted as one case.\n",
    "\n",
    "Population data for each nation is provided by the Office of National Statistics for mid-2019 [here](https://www.ons.gov.uk/peoplepopulationandcommunity/populationandmigration/populationestimates/bulletins/annualmidyearpopulationestimates/mid2019estimates#population-growth-in-england-wales-scotland-and-northern-ireland) and was used in the calculations to plot the graph.\n"
   ]
  },
  {
   "cell_type": "code",
   "execution_count": null,
   "metadata": {},
   "outputs": [],
   "source": [
    "import ipywidgets as wdg\n",
    "import pandas as pd\n",
    "import numpy as np\n",
    "import matplotlib.pyplot as plt\n",
    "import json\n",
    "from uk_covid19 import Cov19API"
   ]
  },
  {
   "cell_type": "code",
   "execution_count": null,
   "metadata": {},
   "outputs": [],
   "source": [
    "%matplotlib inline\n",
    "# make figures larger\n",
    "plt.rcParams['figure.dpi'] = 120 #made this larger"
   ]
  },
  {
   "cell_type": "markdown",
   "metadata": {},
   "source": [
    "## Initial data from a file\n",
    "\n",
    "The graph displayed when this dashboard is first accessed, uses data saved in a file. This file includes daily cases from 03-Jan-2020 until 17-Nov-2020. The plots for all nations are displayed as default in the graph.\n",
    "\n",
    "A drop-down menu, with instructions, is provided to enable the user to select which nation daily cases are of interest.\n",
    "\n",
    "This initial graph shows that between January and the beginning of March there weren't any positive COVID-19 cases or that testing was not deployed. Between the middle of March and June, we can see the peak of the 'first wave' of the pandemic in UK, with Wales appearring to be the worst afflicted nation as a percentage of its population. \n",
    "\n",
    "It is interesting to notice the 'second wave' starting in September and continuing in November. The cases, as a percentage of a nation's population for all nations, are higher than the ones in the first wave, though this may be due to the higher number of tests being conducted. These spikes appear consistent with the four nation governements' decisions to enforce a second lockdown. Northern Ireland appears to be the nation having the highest number of cases as a percentage of its population in the 'second wave'.\n",
    "\n",
    "The cases as percentages of each nation's population, appear quite low in general, however these are cases with registered positive COVID-19 tests and not everyone with COVID-19 symptoms is tested.\n",
    "\n",
    "In general, the spread of the virus in the population of each nation through time, shown in this graph, appears to be in line with the updates made to the general public in the mainstream media."
   ]
  },
  {
   "cell_type": "code",
   "execution_count": null,
   "metadata": {},
   "outputs": [],
   "source": [
    "# Load JSON files and store the raw data in a variable\n",
    "with open(\"timeseries.json\", \"rt\") as INFILE:\n",
    "    jsondata=json.load(INFILE)\n"
   ]
  },
  {
   "cell_type": "code",
   "execution_count": null,
   "metadata": {},
   "outputs": [],
   "source": [
    "### WRANGLE DATA ###### putting the wrangling code into a function allows to call it again after refreshing \n",
    "## the data through the API. \n",
    "\n",
    "def wrangle_data(rawdata):\n",
    "    \"\"\" Parameters: rawdata - data from json file or API call. Returns a dataframe.\n",
    "    Edit to include the code that wrangles the data, creates the dataframe and fills it in. \"\"\"\n",
    "    datalist=rawdata['data']\n",
    "    dates=[dictionary['date'] for dictionary in datalist]\n",
    "    dates.sort()\n",
    "   \n",
    "    ##constructing a dates list where all dteas are included once\n",
    "    datesb=[]\n",
    "    for i in dates:\n",
    "        if i not in datesb:\n",
    "            datesb.append(i)\n",
    "    datesb.sort()\n",
    "    \n",
    "    \n",
    "    ## reconstructing the dictionaries so that for each date we get the number of cases in \n",
    "    ## each nation and as percentage of the population in each nation. \n",
    "    ##The first for loop reads the dates list and the nested loop reads the list with \n",
    "    ## the dictionaries for each date. Population data from ons.gov.uk , 2019 midyear estimate\n",
    "    mldatalist=[]\n",
    "    for i in datesb:\n",
    "        for dictionary in datalist:\n",
    "            if  dictionary['areaName']=='England'and dictionary['date']==i:\n",
    "                e=100*dictionary['cases']/56287000        # percentage cases/England population\n",
    "            elif dictionary['areaName'] =='Scotland'and dictionary['date']==i:\n",
    "                s=100*dictionary['cases']/5463300        # percentage cases/Scotland population\n",
    "            elif dictionary['date'] ==i and dictionary['areaName'] == 'Wales':\n",
    "                w=100*dictionary['cases']/3152900     # percentage cases/Wales population\n",
    "            elif dictionary['date'] ==i and dictionary['areaName'] == 'Northern Ireland':\n",
    "                ni=100*dictionary['cases']/1893700     # percentage cases/Northern Ireland population\n",
    "        newdict={'date':i,'Englandcases':e, 'Scotlandcases':s, 'NorthernIrelandcases':ni, 'Walescases':w}\n",
    "        mldatalist.append(newdict)\n",
    "   \n",
    "    #we find the earliest and latest date and convert them to the pandas type for representing dates\n",
    "    def parse_date(datestring):\n",
    "        \"\"\" Convert a date string into a pandas datetime object \"\"\"\n",
    "        return pd.to_datetime(datestring, format=\"%Y-%m-%d\")\n",
    "\n",
    "    #'datesb' is the dates list created above\n",
    "    startdate=parse_date(datesb[0])\n",
    "    enddate=parse_date(datesb[-1])\n",
    "    \n",
    "    \n",
    "    #we create an index as a date_range: this is the date analog of a range for integers, \n",
    "    #and it will include any dates that may be missing from our list. \n",
    "    #We then proceed to define the DateFrame by specifying its index and the title of its columns\n",
    "    index=pd.date_range(startdate, enddate, freq='D')\n",
    "    df=pd.DataFrame(index=index, columns=['Englandcases', 'Scotlandcases', 'NorthernIrelandcases', 'Walescases'])\n",
    "    \n",
    "    \n",
    "    for entry in mldatalist: # each entry is a dictionary with date, cases, hospital and deaths\n",
    "        date=parse_date(entry['date'])\n",
    "        for column in ['Englandcases', 'Scotlandcases', 'NorthernIrelandcases', 'Walescases']:\n",
    "        # check that nothing is there yet - just in case some dates are duplicated,\n",
    "        # maybe with data for different columns in each entry\n",
    "            if pd.isna(df.loc[date, column]): \n",
    "                # replace None with 0 in our data \n",
    "                value= float(entry[column]) if entry[column]!=None else 0.0\n",
    "                # this is the way you access a specific location in the dataframe - use .loc\n",
    "                # and put index,column in a single set of [ ]\n",
    "                df.loc[date, column]=value\n",
    "            \n",
    "    # fill in any remaining \"holes\" due to missing dates\n",
    "    df.fillna(0.0, inplace=True)\n",
    "    return  df \n",
    "\n",
    "# We call the function directly on the JSON data when the dashboard starts, by including \n",
    "# the call in the cell as below:\n",
    "\n",
    "df=wrangle_data(jsondata) # df is the dataframe for plotting\n"
   ]
  },
  {
   "cell_type": "markdown",
   "metadata": {},
   "source": [
    "## Download current data"
   ]
  },
  {
   "cell_type": "markdown",
   "metadata": {},
   "source": [
    "An option to refresh the dataset from the API is available by clicking the  blue button \"Refresh Data\" below. The blue button :\n",
    "\n",
    "* calls the code that accesses the API and downloads current data in a few seconds;\n",
    "* redraws the graph when current data is dowloaded sucessfully.\n",
    "\n",
    "When the above process runs smoothly the button is disabled and labelled 'Success'.\n",
    "\n",
    "If for any reason, e.g. the API is unavailable or there is no internet connection, the blue button becomes orange and is labelled 'Unavailable'. You can still click the 'orange' button later and if the connection issues are resolved and data is downloaded, the the button will be turned to blue but disabled and labelled 'Success'. In the later case the graph will be updated accordingly.\n",
    "\n",
    "The graph functionality and instructions remain the same with the initial graph drawn from file data, as explained above.\n"
   ]
  },
  {
   "cell_type": "code",
   "execution_count": null,
   "metadata": {},
   "outputs": [],
   "source": [
    "# API access code is palced in this function. Do not call this function directly; it will be called by \n",
    "# the button callback. \n",
    "def access_api():\n",
    "    \"\"\" Accesses the PHE API. Returns raw data in the same format as data loaded from the \"canned\" JSON file. \"\"\"\n",
    "    # Polling API and getting the data in a json file\n",
    "    filters = ['areaType=nation']\n",
    "    structure={\"areaName\":\"areaName\",\"date\":\"date\", \"cases\":\"newCasesByPublishDate\"}\n",
    "    api=Cov19API(filters=filters, structure=structure)\n",
    "    try:\n",
    "        apinewdata=api.get_json()  ### NOTE: this call polls the server.\n",
    "    except:\n",
    "        apibutton.button_style='warning'\n",
    "        apibutton.icon='unlink'\n",
    "        apibutton.description = \"Unavailable\"\n",
    "    return apinewdata # return data read from the API\n"
   ]
  },
  {
   "cell_type": "code",
   "execution_count": null,
   "metadata": {},
   "outputs": [],
   "source": [
    "# Printout from this function will be lost in Voila unless captured in an\n",
    "# output widget - therefore, we give feedback to the user by changing the \n",
    "# appearance of the button as explained in the text cells\n",
    "def api_button_callback(button):\n",
    "    \"\"\" Button callback - it must take the button as its parameter (unused in this case).\n",
    "    Accesses API, wrangles data, updates global variable df used for plotting. \"\"\"\n",
    "    # Get fresh data from the API. If you have time, include some error handling\n",
    "    # around this call.\n",
    "    apidata=access_api()\n",
    "    \n",
    "    # wrangle the data and overwrite the dataframe for plotting\n",
    "    global df\n",
    "    df=wrangle_data(apidata)\n",
    "    \n",
    "    # the graph won't refresh until the user interacts with the widget.\n",
    "    # this function simulates the interaction see cells below\n",
    "    refresh_graph()\n",
    "    \n",
    "    # after all is done, we modify the button as explained in the text cells\n",
    "    apibutton.icon=\"check-circle\"\n",
    "    apibutton.button_style='info'\n",
    "    apibutton.description='Success'\n",
    "    apibutton.tooltip=\"Data has been downloaded\"\n",
    "    apibutton.disabled=True\n",
    "\n",
    "    \n",
    "apibutton=wdg.Button(\n",
    "    description='Refresh Data', \n",
    "    disabled=False,\n",
    "    button_style='info', # 'success', 'info', 'warning', 'danger' or ''\n",
    "    tooltip=\"Click to download current Public Health England data\",\n",
    "    # FontAwesome names without the `fa-` prefix - try \"download\"\n",
    "    icon='download'\n",
    ")\n",
    "\n",
    "#link button with function\n",
    "apibutton.on_click(api_button_callback) # the name of your function inside these brackets\n",
    "\n",
    "display(apibutton)\n"
   ]
  },
  {
   "cell_type": "code",
   "execution_count": null,
   "metadata": {},
   "outputs": [],
   "source": [
    "####widget####\n",
    "    \n",
    "series=wdg.SelectMultiple(\n",
    "    options=['Englandcases', 'Scotlandcases', 'NorthernIrelandcases', 'Walescases'],\n",
    "    value=['Englandcases', 'Scotlandcases', 'NorthernIrelandcases', 'Walescases'],\n",
    "    rows=4,\n",
    "    description='Nation(s):',\n",
    "    disabled=False\n",
    ")\n",
    "\n",
    "####plotting the graph####\n",
    "\n",
    "def plot_df(gcols):\n",
    "    ncols=len(gcols)\n",
    "    if ncols>0:\n",
    "        df[list(gcols)].plot(linewidth=1.2)\n",
    "        print(\"Click to select one nation\")\n",
    "        print(\"CTRL-Click to select more than one nation\")\n",
    "        print(\"CTRL-Click to deselect a nation\")\n",
    "        \n",
    "    else:\n",
    "        print(\"Click to select data for graph\")\n",
    "        print(\"CTRL-Click to select more than one nation\")\n",
    "    plt.ylabel(\"newCases as % nation population\") ## added for clarity\n",
    "    \n",
    "# keep calling plot_df(gcols=value_of_series); capture output in variable graph   #####\n",
    "graph=wdg.interactive_output(plot_df, {'gcols': series})\n",
    "\n",
    "display(series, graph)\n",
    "\n",
    "### force refresh the graph when API data refresh is done####\n",
    "def refresh_graph():\n",
    "    \"\"\" We change the value of the widget in order to force a redraw of the graph;\n",
    "    this is useful when the data have been updated. This is a bit of a gimmick; it\n",
    "    needs to be customised for one of your widgets. \"\"\"\n",
    "    current=series.value\n",
    "    if current!=[series.options[0],series.options[1]]:\n",
    "        other=[series.options[1],series.options[2]]\n",
    "    else :\n",
    "        other=[series[2],series[3]]\n",
    "    series.value=other # forces the redraw\n",
    "    series.value=['Englandcases', 'Scotlandcases', 'NorthernIrelandcases', 'Walescases'] # now we can \n",
    "    \n"
   ]
  },
  {
   "cell_type": "markdown",
   "metadata": {},
   "source": [
    "**Data sources:** *Based on UK Government published data by  [Public Health England](https://www.gov.uk/government/organisations/public-health-england) and [Office for National Statistics](https://www.ons.gov.uk)* "
   ]
  }
 ],
 "metadata": {
  "kernelspec": {
   "display_name": "Python 3",
   "language": "python",
   "name": "python3"
  },
  "language_info": {
   "codemirror_mode": {
    "name": "ipython",
    "version": 3
   },
   "file_extension": ".py",
   "mimetype": "text/x-python",
   "name": "python",
   "nbconvert_exporter": "python",
   "pygments_lexer": "ipython3",
   "version": "3.8.3"
  }
 },
 "nbformat": 4,
 "nbformat_minor": 4
}
